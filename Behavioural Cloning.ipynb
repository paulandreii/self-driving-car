{
 "cells": [
  {
   "cell_type": "code",
   "execution_count": 1,
   "metadata": {},
   "outputs": [
    {
     "name": "stderr",
     "output_type": "stream",
     "text": [
      "Using TensorFlow backend.\n"
     ]
    }
   ],
   "source": [
    "import warnings\n",
    "warnings.filterwarnings('ignore')\n",
    "import numpy as np\n",
    "import matplotlib.pyplot as plt\n",
    "import matplotlib.image as npimg\n",
    "import keras\n",
    "from keras.models import Sequential\n",
    "from keras.layers import Dense\n",
    "from keras.optimizers import Adam\n",
    "import cv2\n",
    "import random\n",
    "import pandas as pd\n",
    "from keras.layers import Dropout, Flatten\n",
    "from keras.layers.convolutional import Conv2D, MaxPooling2D\n",
    "from sklearn.utils import shuffle\n",
    "from sklearn.model_selection import train_test_split\n",
    "import os\n",
    "import ntpath"
   ]
  },
  {
   "cell_type": "code",
   "execution_count": 2,
   "metadata": {
    "scrolled": true
   },
   "outputs": [
    {
     "data": {
      "text/html": [
       "<div>\n",
       "<style scoped>\n",
       "    .dataframe tbody tr th:only-of-type {\n",
       "        vertical-align: middle;\n",
       "    }\n",
       "\n",
       "    .dataframe tbody tr th {\n",
       "        vertical-align: top;\n",
       "    }\n",
       "\n",
       "    .dataframe thead th {\n",
       "        text-align: right;\n",
       "    }\n",
       "</style>\n",
       "<table border=\"1\" class=\"dataframe\">\n",
       "  <thead>\n",
       "    <tr style=\"text-align: right;\">\n",
       "      <th></th>\n",
       "      <th>center</th>\n",
       "      <th>left</th>\n",
       "      <th>right</th>\n",
       "      <th>steering</th>\n",
       "      <th>throttle</th>\n",
       "      <th>reverse</th>\n",
       "      <th>speed</th>\n",
       "    </tr>\n",
       "  </thead>\n",
       "  <tbody>\n",
       "    <tr>\n",
       "      <th>0</th>\n",
       "      <td>C:\\Users\\darkr\\Desktop\\car-data\\IMG\\center_2020_04_18_10_38_50_679.jpg</td>\n",
       "      <td>C:\\Users\\darkr\\Desktop\\car-data\\IMG\\left_2020_04_18_10_38_50_679.jpg</td>\n",
       "      <td>C:\\Users\\darkr\\Desktop\\car-data\\IMG\\right_2020_04_18_10_38_50_679.jpg</td>\n",
       "      <td>0.0</td>\n",
       "      <td>0.0</td>\n",
       "      <td>0</td>\n",
       "      <td>0.000078</td>\n",
       "    </tr>\n",
       "    <tr>\n",
       "      <th>1</th>\n",
       "      <td>C:\\Users\\darkr\\Desktop\\car-data\\IMG\\center_2020_04_18_10_38_50_780.jpg</td>\n",
       "      <td>C:\\Users\\darkr\\Desktop\\car-data\\IMG\\left_2020_04_18_10_38_50_780.jpg</td>\n",
       "      <td>C:\\Users\\darkr\\Desktop\\car-data\\IMG\\right_2020_04_18_10_38_50_780.jpg</td>\n",
       "      <td>0.0</td>\n",
       "      <td>0.0</td>\n",
       "      <td>0</td>\n",
       "      <td>0.000080</td>\n",
       "    </tr>\n",
       "    <tr>\n",
       "      <th>2</th>\n",
       "      <td>C:\\Users\\darkr\\Desktop\\car-data\\IMG\\center_2020_04_18_10_38_50_880.jpg</td>\n",
       "      <td>C:\\Users\\darkr\\Desktop\\car-data\\IMG\\left_2020_04_18_10_38_50_880.jpg</td>\n",
       "      <td>C:\\Users\\darkr\\Desktop\\car-data\\IMG\\right_2020_04_18_10_38_50_880.jpg</td>\n",
       "      <td>0.0</td>\n",
       "      <td>0.0</td>\n",
       "      <td>0</td>\n",
       "      <td>0.000080</td>\n",
       "    </tr>\n",
       "    <tr>\n",
       "      <th>3</th>\n",
       "      <td>C:\\Users\\darkr\\Desktop\\car-data\\IMG\\center_2020_04_18_10_38_50_985.jpg</td>\n",
       "      <td>C:\\Users\\darkr\\Desktop\\car-data\\IMG\\left_2020_04_18_10_38_50_985.jpg</td>\n",
       "      <td>C:\\Users\\darkr\\Desktop\\car-data\\IMG\\right_2020_04_18_10_38_50_985.jpg</td>\n",
       "      <td>0.0</td>\n",
       "      <td>0.0</td>\n",
       "      <td>0</td>\n",
       "      <td>0.000078</td>\n",
       "    </tr>\n",
       "    <tr>\n",
       "      <th>4</th>\n",
       "      <td>C:\\Users\\darkr\\Desktop\\car-data\\IMG\\center_2020_04_18_10_38_51_088.jpg</td>\n",
       "      <td>C:\\Users\\darkr\\Desktop\\car-data\\IMG\\left_2020_04_18_10_38_51_088.jpg</td>\n",
       "      <td>C:\\Users\\darkr\\Desktop\\car-data\\IMG\\right_2020_04_18_10_38_51_088.jpg</td>\n",
       "      <td>0.0</td>\n",
       "      <td>0.0</td>\n",
       "      <td>0</td>\n",
       "      <td>0.000079</td>\n",
       "    </tr>\n",
       "  </tbody>\n",
       "</table>\n",
       "</div>"
      ],
      "text/plain": [
       "                                                                   center  \\\n",
       "0  C:\\Users\\darkr\\Desktop\\car-data\\IMG\\center_2020_04_18_10_38_50_679.jpg   \n",
       "1  C:\\Users\\darkr\\Desktop\\car-data\\IMG\\center_2020_04_18_10_38_50_780.jpg   \n",
       "2  C:\\Users\\darkr\\Desktop\\car-data\\IMG\\center_2020_04_18_10_38_50_880.jpg   \n",
       "3  C:\\Users\\darkr\\Desktop\\car-data\\IMG\\center_2020_04_18_10_38_50_985.jpg   \n",
       "4  C:\\Users\\darkr\\Desktop\\car-data\\IMG\\center_2020_04_18_10_38_51_088.jpg   \n",
       "\n",
       "                                                                    left  \\\n",
       "0   C:\\Users\\darkr\\Desktop\\car-data\\IMG\\left_2020_04_18_10_38_50_679.jpg   \n",
       "1   C:\\Users\\darkr\\Desktop\\car-data\\IMG\\left_2020_04_18_10_38_50_780.jpg   \n",
       "2   C:\\Users\\darkr\\Desktop\\car-data\\IMG\\left_2020_04_18_10_38_50_880.jpg   \n",
       "3   C:\\Users\\darkr\\Desktop\\car-data\\IMG\\left_2020_04_18_10_38_50_985.jpg   \n",
       "4   C:\\Users\\darkr\\Desktop\\car-data\\IMG\\left_2020_04_18_10_38_51_088.jpg   \n",
       "\n",
       "                                                                    right  \\\n",
       "0   C:\\Users\\darkr\\Desktop\\car-data\\IMG\\right_2020_04_18_10_38_50_679.jpg   \n",
       "1   C:\\Users\\darkr\\Desktop\\car-data\\IMG\\right_2020_04_18_10_38_50_780.jpg   \n",
       "2   C:\\Users\\darkr\\Desktop\\car-data\\IMG\\right_2020_04_18_10_38_50_880.jpg   \n",
       "3   C:\\Users\\darkr\\Desktop\\car-data\\IMG\\right_2020_04_18_10_38_50_985.jpg   \n",
       "4   C:\\Users\\darkr\\Desktop\\car-data\\IMG\\right_2020_04_18_10_38_51_088.jpg   \n",
       "\n",
       "   steering  throttle  reverse     speed  \n",
       "0  0.0       0.0       0        0.000078  \n",
       "1  0.0       0.0       0        0.000080  \n",
       "2  0.0       0.0       0        0.000080  \n",
       "3  0.0       0.0       0        0.000078  \n",
       "4  0.0       0.0       0        0.000079  "
      ]
     },
     "execution_count": 2,
     "metadata": {},
     "output_type": "execute_result"
    }
   ],
   "source": [
    "datadir = 'car-data'\n",
    "columns = ['center', 'left', 'right', 'steering', \n",
    "           'throttle', 'reverse', 'speed']\n",
    "data = pd.read_csv(os.path.join(datadir, 'driving_log.csv'), names=columns)\n",
    "pd.set_option('display.max_colwidth', -1)\n",
    "data.head()"
   ]
  },
  {
   "cell_type": "code",
   "execution_count": 3,
   "metadata": {
    "scrolled": true
   },
   "outputs": [
    {
     "data": {
      "text/html": [
       "<div>\n",
       "<style scoped>\n",
       "    .dataframe tbody tr th:only-of-type {\n",
       "        vertical-align: middle;\n",
       "    }\n",
       "\n",
       "    .dataframe tbody tr th {\n",
       "        vertical-align: top;\n",
       "    }\n",
       "\n",
       "    .dataframe thead th {\n",
       "        text-align: right;\n",
       "    }\n",
       "</style>\n",
       "<table border=\"1\" class=\"dataframe\">\n",
       "  <thead>\n",
       "    <tr style=\"text-align: right;\">\n",
       "      <th></th>\n",
       "      <th>center</th>\n",
       "      <th>left</th>\n",
       "      <th>right</th>\n",
       "      <th>steering</th>\n",
       "      <th>throttle</th>\n",
       "      <th>reverse</th>\n",
       "      <th>speed</th>\n",
       "    </tr>\n",
       "  </thead>\n",
       "  <tbody>\n",
       "    <tr>\n",
       "      <th>0</th>\n",
       "      <td>right_2020_04_18_10_38_50_679.jpg</td>\n",
       "      <td>C:\\Users\\darkr\\Desktop\\car-data\\IMG\\left_2020_04_18_10_38_50_679.jpg</td>\n",
       "      <td>C:\\Users\\darkr\\Desktop\\car-data\\IMG\\right_2020_04_18_10_38_50_679.jpg</td>\n",
       "      <td>0.0</td>\n",
       "      <td>0.0</td>\n",
       "      <td>0</td>\n",
       "      <td>0.000078</td>\n",
       "    </tr>\n",
       "    <tr>\n",
       "      <th>1</th>\n",
       "      <td>right_2020_04_18_10_38_50_780.jpg</td>\n",
       "      <td>C:\\Users\\darkr\\Desktop\\car-data\\IMG\\left_2020_04_18_10_38_50_780.jpg</td>\n",
       "      <td>C:\\Users\\darkr\\Desktop\\car-data\\IMG\\right_2020_04_18_10_38_50_780.jpg</td>\n",
       "      <td>0.0</td>\n",
       "      <td>0.0</td>\n",
       "      <td>0</td>\n",
       "      <td>0.000080</td>\n",
       "    </tr>\n",
       "    <tr>\n",
       "      <th>2</th>\n",
       "      <td>right_2020_04_18_10_38_50_880.jpg</td>\n",
       "      <td>C:\\Users\\darkr\\Desktop\\car-data\\IMG\\left_2020_04_18_10_38_50_880.jpg</td>\n",
       "      <td>C:\\Users\\darkr\\Desktop\\car-data\\IMG\\right_2020_04_18_10_38_50_880.jpg</td>\n",
       "      <td>0.0</td>\n",
       "      <td>0.0</td>\n",
       "      <td>0</td>\n",
       "      <td>0.000080</td>\n",
       "    </tr>\n",
       "    <tr>\n",
       "      <th>3</th>\n",
       "      <td>right_2020_04_18_10_38_50_985.jpg</td>\n",
       "      <td>C:\\Users\\darkr\\Desktop\\car-data\\IMG\\left_2020_04_18_10_38_50_985.jpg</td>\n",
       "      <td>C:\\Users\\darkr\\Desktop\\car-data\\IMG\\right_2020_04_18_10_38_50_985.jpg</td>\n",
       "      <td>0.0</td>\n",
       "      <td>0.0</td>\n",
       "      <td>0</td>\n",
       "      <td>0.000078</td>\n",
       "    </tr>\n",
       "    <tr>\n",
       "      <th>4</th>\n",
       "      <td>right_2020_04_18_10_38_51_088.jpg</td>\n",
       "      <td>C:\\Users\\darkr\\Desktop\\car-data\\IMG\\left_2020_04_18_10_38_51_088.jpg</td>\n",
       "      <td>C:\\Users\\darkr\\Desktop\\car-data\\IMG\\right_2020_04_18_10_38_51_088.jpg</td>\n",
       "      <td>0.0</td>\n",
       "      <td>0.0</td>\n",
       "      <td>0</td>\n",
       "      <td>0.000079</td>\n",
       "    </tr>\n",
       "  </tbody>\n",
       "</table>\n",
       "</div>"
      ],
      "text/plain": [
       "                              center  \\\n",
       "0  right_2020_04_18_10_38_50_679.jpg   \n",
       "1  right_2020_04_18_10_38_50_780.jpg   \n",
       "2  right_2020_04_18_10_38_50_880.jpg   \n",
       "3  right_2020_04_18_10_38_50_985.jpg   \n",
       "4  right_2020_04_18_10_38_51_088.jpg   \n",
       "\n",
       "                                                                    left  \\\n",
       "0   C:\\Users\\darkr\\Desktop\\car-data\\IMG\\left_2020_04_18_10_38_50_679.jpg   \n",
       "1   C:\\Users\\darkr\\Desktop\\car-data\\IMG\\left_2020_04_18_10_38_50_780.jpg   \n",
       "2   C:\\Users\\darkr\\Desktop\\car-data\\IMG\\left_2020_04_18_10_38_50_880.jpg   \n",
       "3   C:\\Users\\darkr\\Desktop\\car-data\\IMG\\left_2020_04_18_10_38_50_985.jpg   \n",
       "4   C:\\Users\\darkr\\Desktop\\car-data\\IMG\\left_2020_04_18_10_38_51_088.jpg   \n",
       "\n",
       "                                                                    right  \\\n",
       "0   C:\\Users\\darkr\\Desktop\\car-data\\IMG\\right_2020_04_18_10_38_50_679.jpg   \n",
       "1   C:\\Users\\darkr\\Desktop\\car-data\\IMG\\right_2020_04_18_10_38_50_780.jpg   \n",
       "2   C:\\Users\\darkr\\Desktop\\car-data\\IMG\\right_2020_04_18_10_38_50_880.jpg   \n",
       "3   C:\\Users\\darkr\\Desktop\\car-data\\IMG\\right_2020_04_18_10_38_50_985.jpg   \n",
       "4   C:\\Users\\darkr\\Desktop\\car-data\\IMG\\right_2020_04_18_10_38_51_088.jpg   \n",
       "\n",
       "   steering  throttle  reverse     speed  \n",
       "0  0.0       0.0       0        0.000078  \n",
       "1  0.0       0.0       0        0.000080  \n",
       "2  0.0       0.0       0        0.000080  \n",
       "3  0.0       0.0       0        0.000078  \n",
       "4  0.0       0.0       0        0.000079  "
      ]
     },
     "execution_count": 3,
     "metadata": {},
     "output_type": "execute_result"
    }
   ],
   "source": [
    "def path_leaf(path):\n",
    "    head, tail = ntpath.split(path)\n",
    "    return tail\n",
    "\n",
    "data['center'] = data['center'].apply(path_leaf)\n",
    "data['center'] = data['left'].apply(path_leaf)\n",
    "data['center'] = data['right'].apply(path_leaf)\n",
    "data.head()"
   ]
  },
  {
   "cell_type": "code",
   "execution_count": 4,
   "metadata": {
    "scrolled": true
   },
   "outputs": [
    {
     "data": {
      "text/plain": [
       "[<matplotlib.lines.Line2D at 0x1e50d60f1c8>,\n",
       " <matplotlib.lines.Line2D at 0x1e50d5a67c8>]"
      ]
     },
     "execution_count": 4,
     "metadata": {},
     "output_type": "execute_result"
    },
    {
     "data": {
      "image/png": "[encoded data removed]",
      "text/plain": [
       "<Figure size 432x288 with 1 Axes>"
      ]
     },
     "metadata": {
      "needs_background": "light"
     },
     "output_type": "display_data"
    }
   ],
   "source": [
    "num_bins = 25\n",
    "samples_per_bin = 200\n",
    "hist, bins = np.histogram(data['steering'], num_bins)\n",
    "center = (bins[:-1] + bins[1:]) * 0.5\n",
    "plt.bar(center, hist, width=0.05)\n",
    "plt.plot(np.min(data['steering']), np.max(data['steering']), \n",
    "         (samples_per_bin, samples_per_bin))"
   ]
  },
  {
   "cell_type": "code",
   "execution_count": 5,
   "metadata": {
    "scrolled": false
   },
   "outputs": [
    {
     "name": "stdout",
     "output_type": "stream",
     "text": [
      "Total data: 5056\n",
      "removed 3702\n",
      "remaining: 1354\n"
     ]
    },
    {
     "data": {
      "text/plain": [
       "[<matplotlib.lines.Line2D at 0x1e50d60fec8>,\n",
       " <matplotlib.lines.Line2D at 0x1e50f922c88>]"
      ]
     },
     "execution_count": 5,
     "metadata": {},
     "output_type": "execute_result"
    },
    {
     "data": {
      "image/png": "[encoded data removed]",
      "text/plain": [
       "<Figure size 432x288 with 1 Axes>"
      ]
     },
     "metadata": {
      "needs_background": "light"
     },
     "output_type": "display_data"
    }
   ],
   "source": [
    "print('Total data:', len(data))\n",
    "remove_list = []\n",
    "for j in range(num_bins):\n",
    "    list_ = []\n",
    "    for i in range(len(data['steering'])):\n",
    "        if data['steering'][i] >= bins[j] and data['steering'][i] <= bins[j+1]:\n",
    "            list_.append(i)\n",
    "    list_ = shuffle(list_)\n",
    "    list_ = list_[samples_per_bin:]\n",
    "    remove_list.extend(list_)\n",
    "\n",
    "print('removed', len(remove_list))\n",
    "data.drop(data.index[remove_list], inplace=True)\n",
    "print('remaining:', len(data))\n",
    "\n",
    "hist, _ = np.histogram(data['steering'], num_bins)\n",
    "plt.bar(center, hist, width=0.05)\n",
    "plt.plot(np.min(data['steering']), np.max(data['steering']), \n",
    "         (samples_per_bin, samples_per_bin))"
   ]
  },
  {
   "cell_type": "code",
   "execution_count": 6,
   "metadata": {},
   "outputs": [],
   "source": [
    "def load_img_steering(datadir, df):\n",
    "    image_path = []\n",
    "    steering = []\n",
    "    for i in range(len(data)):\n",
    "        indexed_data = data.iloc[i]\n",
    "        center, left, right = indexed_data[0], indexed_data[1], indexed_data[2]\n",
    "        image_path.append(os.path.join(datadir, center.strip()))\n",
    "        steering.append(float(indexed_data[3]))\n",
    "    image_path = np.asarray(image_path)\n",
    "    steering = np.asarray(steering)\n",
    "    return image_path, steering\n",
    "\n",
    "image_paths, steerings = load_img_steering(datadir + '/IMG', data)"
   ]
  },
  {
   "cell_type": "code",
   "execution_count": 7,
   "metadata": {},
   "outputs": [
    {
     "name": "stdout",
     "output_type": "stream",
     "text": [
      "Training Samples: 1083\n",
      "Valid Samples: 271\n"
     ]
    }
   ],
   "source": [
    "X_train, X_valid, y_train, y_valid = train_test_split(image_paths, steerings, \n",
    "                                                      test_size=0.2, \n",
    "                                                      random_state=0)\n",
    "print('Training Samples: {}\\nValid Samples: {}'.format(len(X_train), len(X_valid)))"
   ]
  },
  {
   "cell_type": "code",
   "execution_count": 8,
   "metadata": {
    "scrolled": true
   },
   "outputs": [
    {
     "data": {
      "text/plain": [
       "Text(0.5, 1.0, 'Validation set')"
      ]
     },
     "execution_count": 8,
     "metadata": {},
     "output_type": "execute_result"
    },
    {
     "data": {
      "image/png": "[encoded data removed]",
      "text/plain": [
       "<Figure size 864x288 with 2 Axes>"
      ]
     },
     "metadata": {
      "needs_background": "light"
     },
     "output_type": "display_data"
    }
   ],
   "source": [
    "fig, axes = plt.subplots(1, 2, figsize=(12, 4))\n",
    "axes[0].hist(y_train, bins=num_bins, width=0.05, color='blue')\n",
    "axes[0].set_title('Training set')\n",
    "axes[1].hist(y_valid, bins=num_bins, width=0.05, color='red')\n",
    "axes[1].set_title('Validation set')\n"
   ]
  },
  {
   "cell_type": "code",
   "execution_count": 9,
   "metadata": {},
   "outputs": [],
   "source": [
    "def img_preprocess(img):\n",
    "    img = npimg.imread(img)\n",
    "    img = img[60:135,:,:]\n",
    "    img = cv2.cvtColor(img, cv2.COLOR_RGB2YUV)\n",
    "    img = cv2.GaussianBlur(img,  (3, 3), 0)\n",
    "    img = cv2.resize(img, (200, 66))\n",
    "    img = img/255\n",
    "    return img"
   ]
  },
  {
   "cell_type": "code",
   "execution_count": 10,
   "metadata": {},
   "outputs": [],
   "source": [
    "X_train = np.asarray(list(map(img_preprocess, X_train)))\n",
    "X_valid = np.asarray(list(map(img_preprocess, X_valid)))"
   ]
  },
  {
   "cell_type": "code",
   "execution_count": 11,
   "metadata": {
    "scrolled": true
   },
   "outputs": [
    {
     "name": "stdout",
     "output_type": "stream",
     "text": [
      "(1083, 66, 200, 3)\n"
     ]
    },
    {
     "data": {
      "image/png": "[encoded data removed]",
      "text/plain": [
       "<Figure size 432x288 with 1 Axes>"
      ]
     },
     "metadata": {
      "needs_background": "light"
     },
     "output_type": "display_data"
    }
   ],
   "source": [
    "plt.imshow(X_train[random.randint(0, len(X_train - 1))])\n",
    "plt.axis('off')\n",
    "print(X_train.shape)"
   ]
  },
  {
   "cell_type": "code",
   "execution_count": 12,
   "metadata": {},
   "outputs": [],
   "source": [
    "def nvidia_model():\n",
    " \n",
    "    model = Sequential()\n",
    "\n",
    "    model.add(Conv2D(24, kernel_size=(5,5), strides=(2,2), \n",
    "                     input_shape=(66,200,3),activation='elu'))\n",
    "\n",
    "    model.add(Conv2D(36, kernel_size=(5,5), strides=(2,2), activation='elu'))\n",
    "    model.add(Conv2D(48, kernel_size=(5,5), strides=(2,2), activation='elu'))\n",
    "    model.add(Conv2D(64, kernel_size=(3,3), activation='elu'))\n",
    "    model.add(Conv2D(64, kernel_size=(3,3), activation='elu'))\n",
    "    model.add(Dropout(0.5))\n",
    "\n",
    "\n",
    "    model.add(Flatten())\n",
    "    model.add(Dense(100, activation='elu'))\n",
    "    model.add(Dropout(0.5))\n",
    "\n",
    "\n",
    "    model.add(Dense(50, activation='elu'))\n",
    "    model.add(Dropout(0.5))\n",
    "    model.add(Dense(10, activation ='elu'))\n",
    "    model.add(Dropout(0.5))\n",
    "    model.add(Dense(1))\n",
    "\n",
    "\n",
    "    optimizer= Adam(lr=1e-3)\n",
    "    model.compile(loss='mse', optimizer=optimizer)\n",
    "\n",
    "    return model"
   ]
  },
  {
   "cell_type": "code",
   "execution_count": 13,
   "metadata": {
    "scrolled": false
   },
   "outputs": [
    {
     "name": "stdout",
     "output_type": "stream",
     "text": [
      "Model: \"sequential_1\"\n",
      "_________________________________________________________________\n",
      "Layer (type)                 Output Shape              Param #   \n",
      "=================================================================\n",
      "conv2d_1 (Conv2D)            (None, 31, 98, 24)        1824      \n",
      "_________________________________________________________________\n",
      "conv2d_2 (Conv2D)            (None, 14, 47, 36)        21636     \n",
      "_________________________________________________________________\n",
      "conv2d_3 (Conv2D)            (None, 5, 22, 48)         43248     \n",
      "_________________________________________________________________\n",
      "conv2d_4 (Conv2D)            (None, 3, 20, 64)         27712     \n",
      "_________________________________________________________________\n",
      "conv2d_5 (Conv2D)            (None, 1, 18, 64)         36928     \n",
      "_________________________________________________________________\n",
      "dropout_1 (Dropout)          (None, 1, 18, 64)         0         \n",
      "_________________________________________________________________\n",
      "flatten_1 (Flatten)          (None, 1152)              0         \n",
      "_________________________________________________________________\n",
      "dense_1 (Dense)              (None, 100)               115300    \n",
      "_________________________________________________________________\n",
      "dropout_2 (Dropout)          (None, 100)               0         \n",
      "_________________________________________________________________\n",
      "dense_2 (Dense)              (None, 50)                5050      \n",
      "_________________________________________________________________\n",
      "dropout_3 (Dropout)          (None, 50)                0         \n",
      "_________________________________________________________________\n",
      "dense_3 (Dense)              (None, 10)                510       \n",
      "_________________________________________________________________\n",
      "dropout_4 (Dropout)          (None, 10)                0         \n",
      "_________________________________________________________________\n",
      "dense_4 (Dense)              (None, 1)                 11        \n",
      "=================================================================\n",
      "Total params: 252,219\n",
      "Trainable params: 252,219\n",
      "Non-trainable params: 0\n",
      "_________________________________________________________________\n"
     ]
    }
   ],
   "source": [
    "model = nvidia_model()\n",
    "model.summary()"
   ]
  },
  {
   "cell_type": "code",
   "execution_count": 14,
   "metadata": {
    "scrolled": true
   },
   "outputs": [
    {
     "name": "stdout",
     "output_type": "stream",
     "text": [
      "WARNING:tensorflow:From C:\\Users\\darkr\\anaconda3\\lib\\site-packages\\keras\\backend\\tensorflow_backend.py:422: The name tf.global_variables is deprecated. Please use tf.compat.v1.global_variables instead.\n",
      "\n",
      "Train on 1083 samples, validate on 271 samples\n",
      "Epoch 1/30\n",
      "1083/1083 [==============================] - 3s 3ms/step - loss: 2.0828 - val_loss: 0.1437\n",
      "Epoch 2/30\n",
      "1083/1083 [==============================] - 1s 521us/step - loss: 0.3427 - val_loss: 0.0877\n",
      "Epoch 3/30\n",
      "1083/1083 [==============================] - 1s 525us/step - loss: 0.1526 - val_loss: 0.0779\n",
      "Epoch 4/30\n",
      "1083/1083 [==============================] - 1s 557us/step - loss: 0.1060 - val_loss: 0.0730\n",
      "Epoch 5/30\n",
      "1083/1083 [==============================] - 1s 560us/step - loss: 0.0878 - val_loss: 0.0698\n",
      "Epoch 6/30\n",
      "1083/1083 [==============================] - 1s 552us/step - loss: 0.0915 - val_loss: 0.0675\n",
      "Epoch 7/30\n",
      "1083/1083 [==============================] - 1s 540us/step - loss: 0.0812 - val_loss: 0.0658\n",
      "Epoch 8/30\n",
      "1083/1083 [==============================] - 1s 545us/step - loss: 0.0756 - val_loss: 0.0655\n",
      "Epoch 9/30\n",
      "1083/1083 [==============================] - 1s 553us/step - loss: 0.0755 - val_loss: 0.0626\n",
      "Epoch 10/30\n",
      "1083/1083 [==============================] - 1s 529us/step - loss: 0.0771 - val_loss: 0.0606\n",
      "Epoch 11/30\n",
      "1083/1083 [==============================] - 1s 533us/step - loss: 0.0706 - val_loss: 0.0607\n",
      "Epoch 12/30\n",
      "1083/1083 [==============================] - 1s 535us/step - loss: 0.0710 - val_loss: 0.0581\n",
      "Epoch 13/30\n",
      "1083/1083 [==============================] - 1s 533us/step - loss: 0.0667 - val_loss: 0.0588\n",
      "Epoch 14/30\n",
      "1083/1083 [==============================] - 1s 541us/step - loss: 0.0652 - val_loss: 0.0568\n",
      "Epoch 15/30\n",
      "1083/1083 [==============================] - 1s 531us/step - loss: 0.0652 - val_loss: 0.0536\n",
      "Epoch 16/30\n",
      "1083/1083 [==============================] - 1s 534us/step - loss: 0.0646 - val_loss: 0.0520\n",
      "Epoch 17/30\n",
      "1083/1083 [==============================] - 1s 532us/step - loss: 0.0657 - val_loss: 0.0518\n",
      "Epoch 18/30\n",
      "1083/1083 [==============================] - 1s 533us/step - loss: 0.0566 - val_loss: 0.0496\n",
      "Epoch 19/30\n",
      "1083/1083 [==============================] - 1s 533us/step - loss: 0.0624 - val_loss: 0.0493\n",
      "Epoch 20/30\n",
      "1083/1083 [==============================] - 1s 533us/step - loss: 0.0533 - val_loss: 0.0467\n",
      "Epoch 21/30\n",
      "1083/1083 [==============================] - 1s 532us/step - loss: 0.0560 - val_loss: 0.0460\n",
      "Epoch 22/30\n",
      "1083/1083 [==============================] - 1s 536us/step - loss: 0.0576 - val_loss: 0.0463\n",
      "Epoch 23/30\n",
      "1083/1083 [==============================] - 1s 532us/step - loss: 0.0550 - val_loss: 0.0451\n",
      "Epoch 24/30\n",
      "1083/1083 [==============================] - 1s 532us/step - loss: 0.0547 - val_loss: 0.0481\n",
      "Epoch 25/30\n",
      "1083/1083 [==============================] - 1s 534us/step - loss: 0.0558 - val_loss: 0.0459\n",
      "Epoch 26/30\n",
      "1083/1083 [==============================] - 1s 533us/step - loss: 0.0568 - val_loss: 0.0454\n",
      "Epoch 27/30\n",
      "1083/1083 [==============================] - 1s 533us/step - loss: 0.0551 - val_loss: 0.0428\n",
      "Epoch 28/30\n",
      "1083/1083 [==============================] - 1s 531us/step - loss: 0.0503 - val_loss: 0.0418\n",
      "Epoch 29/30\n",
      "1083/1083 [==============================] - 1s 533us/step - loss: 0.0536 - val_loss: 0.0419\n",
      "Epoch 30/30\n",
      "1083/1083 [==============================] - 1s 533us/step - loss: 0.0501 - val_loss: 0.0417\n"
     ]
    }
   ],
   "source": [
    "history = model.fit(X_train, y_train, epochs=30, validation_data=(X_valid, y_valid),\n",
    "         batch_size=100, verbose=1, shuffle=1)"
   ]
  },
  {
   "cell_type": "code",
   "execution_count": 29,
   "metadata": {
    "scrolled": true
   },
   "outputs": [
    {
     "data": {
      "text/plain": [
       "Text(0.5, 0, 'epoch')"
      ]
     },
     "execution_count": 29,
     "metadata": {},
     "output_type": "execute_result"
    },
    {
     "data": {
      "image/png": "[encoded data removed]",
      "text/plain": [
       "<Figure size 2160x1440 with 1 Axes>"
      ]
     },
     "metadata": {
      "needs_background": "light"
     },
     "output_type": "display_data"
    }
   ],
   "source": [
    "plt.rcParams[\"figure.figsize\"] = (30,20)\n",
    "plt.plot(history.history['loss'])\n",
    "plt.plot(history.history['val_loss'])\n",
    "plt.legend(['training', 'validation'])\n",
    "plt.title('Loss')\n",
    "plt.xlabel('epoch')"
   ]
  },
  {
   "cell_type": "code",
   "execution_count": 30,
   "metadata": {},
   "outputs": [],
   "source": [
    "model.save('model.h5')"
   ]
  }
 ],
 "metadata": {
  "kernelspec": {
   "display_name": "Python 3",
   "language": "python",
   "name": "python3"
  },
  "language_info": {
   "codemirror_mode": {
    "name": "ipython",
    "version": 3
   },
   "file_extension": ".py",
   "mimetype": "text/x-python",
   "name": "python",
   "nbconvert_exporter": "python",
   "pygments_lexer": "ipython3",
   "version": "3.7.6"
  }
 },
 "nbformat": 4,
 "nbformat_minor": 4
}
