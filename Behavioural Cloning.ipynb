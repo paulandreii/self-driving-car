{
 "cells": [
  {
   "cell_type": "code",
   "execution_count": 1,
   "metadata": {},
   "outputs": [
    {
     "name": "stderr",
     "output_type": "stream",
     "text": [
      "Using TensorFlow backend.\n"
     ]
    }
   ],
   "source": [
    "import warnings\n",
    "warnings.filterwarnings('ignore')\n",
    "import numpy as np\n",
    "import matplotlib.pyplot as plt\n",
    "import matplotlib.image as npimg\n",
    "import keras\n",
    "from keras.models import Sequential\n",
    "from keras.layers import Dense\n",
    "from keras.optimizers import Adam\n",
    "import cv2\n",
    "import random\n",
    "import pandas as pd\n",
    "from keras.layers import Dropout, Flatten\n",
    "from keras.layers.convolutional import Conv2D, MaxPooling2D\n",
    "from sklearn.utils import shuffle\n",
    "from sklearn.model_selection import train_test_split\n",
    "from imgaug import augmenters as iaa\n",
    "import os\n",
    "import ntpath"
   ]
  },
  {
   "cell_type": "code",
   "execution_count": 2,
   "metadata": {
    "scrolled": true
   },
   "outputs": [
    {
     "data": {
      "text/html": [
       "<div>\n",
       "<style scoped>\n",
       "    .dataframe tbody tr th:only-of-type {\n",
       "        vertical-align: middle;\n",
       "    }\n",
       "\n",
       "    .dataframe tbody tr th {\n",
       "        vertical-align: top;\n",
       "    }\n",
       "\n",
       "    .dataframe thead th {\n",
       "        text-align: right;\n",
       "    }\n",
       "</style>\n",
       "<table border=\"1\" class=\"dataframe\">\n",
       "  <thead>\n",
       "    <tr style=\"text-align: right;\">\n",
       "      <th></th>\n",
       "      <th>center</th>\n",
       "      <th>left</th>\n",
       "      <th>right</th>\n",
       "      <th>steering</th>\n",
       "      <th>throttle</th>\n",
       "      <th>reverse</th>\n",
       "      <th>speed</th>\n",
       "    </tr>\n",
       "  </thead>\n",
       "  <tbody>\n",
       "    <tr>\n",
       "      <th>0</th>\n",
       "      <td>C:\\Users\\darkr\\Desktop\\car-data\\IMG\\center_2020_04_18_10_38_50_679.jpg</td>\n",
       "      <td>C:\\Users\\darkr\\Desktop\\car-data\\IMG\\left_2020_04_18_10_38_50_679.jpg</td>\n",
       "      <td>C:\\Users\\darkr\\Desktop\\car-data\\IMG\\right_2020_04_18_10_38_50_679.jpg</td>\n",
       "      <td>0.0</td>\n",
       "      <td>0.0</td>\n",
       "      <td>0</td>\n",
       "      <td>0.000078</td>\n",
       "    </tr>\n",
       "    <tr>\n",
       "      <th>1</th>\n",
       "      <td>C:\\Users\\darkr\\Desktop\\car-data\\IMG\\center_2020_04_18_10_38_50_780.jpg</td>\n",
       "      <td>C:\\Users\\darkr\\Desktop\\car-data\\IMG\\left_2020_04_18_10_38_50_780.jpg</td>\n",
       "      <td>C:\\Users\\darkr\\Desktop\\car-data\\IMG\\right_2020_04_18_10_38_50_780.jpg</td>\n",
       "      <td>0.0</td>\n",
       "      <td>0.0</td>\n",
       "      <td>0</td>\n",
       "      <td>0.000080</td>\n",
       "    </tr>\n",
       "    <tr>\n",
       "      <th>2</th>\n",
       "      <td>C:\\Users\\darkr\\Desktop\\car-data\\IMG\\center_2020_04_18_10_38_50_880.jpg</td>\n",
       "      <td>C:\\Users\\darkr\\Desktop\\car-data\\IMG\\left_2020_04_18_10_38_50_880.jpg</td>\n",
       "      <td>C:\\Users\\darkr\\Desktop\\car-data\\IMG\\right_2020_04_18_10_38_50_880.jpg</td>\n",
       "      <td>0.0</td>\n",
       "      <td>0.0</td>\n",
       "      <td>0</td>\n",
       "      <td>0.000080</td>\n",
       "    </tr>\n",
       "    <tr>\n",
       "      <th>3</th>\n",
       "      <td>C:\\Users\\darkr\\Desktop\\car-data\\IMG\\center_2020_04_18_10_38_50_985.jpg</td>\n",
       "      <td>C:\\Users\\darkr\\Desktop\\car-data\\IMG\\left_2020_04_18_10_38_50_985.jpg</td>\n",
       "      <td>C:\\Users\\darkr\\Desktop\\car-data\\IMG\\right_2020_04_18_10_38_50_985.jpg</td>\n",
       "      <td>0.0</td>\n",
       "      <td>0.0</td>\n",
       "      <td>0</td>\n",
       "      <td>0.000078</td>\n",
       "    </tr>\n",
       "    <tr>\n",
       "      <th>4</th>\n",
       "      <td>C:\\Users\\darkr\\Desktop\\car-data\\IMG\\center_2020_04_18_10_38_51_088.jpg</td>\n",
       "      <td>C:\\Users\\darkr\\Desktop\\car-data\\IMG\\left_2020_04_18_10_38_51_088.jpg</td>\n",
       "      <td>C:\\Users\\darkr\\Desktop\\car-data\\IMG\\right_2020_04_18_10_38_51_088.jpg</td>\n",
       "      <td>0.0</td>\n",
       "      <td>0.0</td>\n",
       "      <td>0</td>\n",
       "      <td>0.000079</td>\n",
       "    </tr>\n",
       "  </tbody>\n",
       "</table>\n",
       "</div>"
      ],
      "text/plain": [
       "                                                                   center  \\\n",
       "0  C:\\Users\\darkr\\Desktop\\car-data\\IMG\\center_2020_04_18_10_38_50_679.jpg   \n",
       "1  C:\\Users\\darkr\\Desktop\\car-data\\IMG\\center_2020_04_18_10_38_50_780.jpg   \n",
       "2  C:\\Users\\darkr\\Desktop\\car-data\\IMG\\center_2020_04_18_10_38_50_880.jpg   \n",
       "3  C:\\Users\\darkr\\Desktop\\car-data\\IMG\\center_2020_04_18_10_38_50_985.jpg   \n",
       "4  C:\\Users\\darkr\\Desktop\\car-data\\IMG\\center_2020_04_18_10_38_51_088.jpg   \n",
       "\n",
       "                                                                    left  \\\n",
       "0   C:\\Users\\darkr\\Desktop\\car-data\\IMG\\left_2020_04_18_10_38_50_679.jpg   \n",
       "1   C:\\Users\\darkr\\Desktop\\car-data\\IMG\\left_2020_04_18_10_38_50_780.jpg   \n",
       "2   C:\\Users\\darkr\\Desktop\\car-data\\IMG\\left_2020_04_18_10_38_50_880.jpg   \n",
       "3   C:\\Users\\darkr\\Desktop\\car-data\\IMG\\left_2020_04_18_10_38_50_985.jpg   \n",
       "4   C:\\Users\\darkr\\Desktop\\car-data\\IMG\\left_2020_04_18_10_38_51_088.jpg   \n",
       "\n",
       "                                                                    right  \\\n",
       "0   C:\\Users\\darkr\\Desktop\\car-data\\IMG\\right_2020_04_18_10_38_50_679.jpg   \n",
       "1   C:\\Users\\darkr\\Desktop\\car-data\\IMG\\right_2020_04_18_10_38_50_780.jpg   \n",
       "2   C:\\Users\\darkr\\Desktop\\car-data\\IMG\\right_2020_04_18_10_38_50_880.jpg   \n",
       "3   C:\\Users\\darkr\\Desktop\\car-data\\IMG\\right_2020_04_18_10_38_50_985.jpg   \n",
       "4   C:\\Users\\darkr\\Desktop\\car-data\\IMG\\right_2020_04_18_10_38_51_088.jpg   \n",
       "\n",
       "   steering  throttle  reverse     speed  \n",
       "0  0.0       0.0       0        0.000078  \n",
       "1  0.0       0.0       0        0.000080  \n",
       "2  0.0       0.0       0        0.000080  \n",
       "3  0.0       0.0       0        0.000078  \n",
       "4  0.0       0.0       0        0.000079  "
      ]
     },
     "execution_count": 2,
     "metadata": {},
     "output_type": "execute_result"
    }
   ],
   "source": [
    "datadir = 'car-data'\n",
    "columns = ['center', 'left', 'right', 'steering', \n",
    "           'throttle', 'reverse', 'speed']\n",
    "data = pd.read_csv(os.path.join(datadir, 'driving_log.csv'), names=columns)\n",
    "pd.set_option('display.max_colwidth', -1)\n",
    "data.head()"
   ]
  },
  {
   "cell_type": "code",
   "execution_count": 3,
   "metadata": {
    "scrolled": true
   },
   "outputs": [
    {
     "data": {
      "text/html": [
       "<div>\n",
       "<style scoped>\n",
       "    .dataframe tbody tr th:only-of-type {\n",
       "        vertical-align: middle;\n",
       "    }\n",
       "\n",
       "    .dataframe tbody tr th {\n",
       "        vertical-align: top;\n",
       "    }\n",
       "\n",
       "    .dataframe thead th {\n",
       "        text-align: right;\n",
       "    }\n",
       "</style>\n",
       "<table border=\"1\" class=\"dataframe\">\n",
       "  <thead>\n",
       "    <tr style=\"text-align: right;\">\n",
       "      <th></th>\n",
       "      <th>center</th>\n",
       "      <th>left</th>\n",
       "      <th>right</th>\n",
       "      <th>steering</th>\n",
       "      <th>throttle</th>\n",
       "      <th>reverse</th>\n",
       "      <th>speed</th>\n",
       "    </tr>\n",
       "  </thead>\n",
       "  <tbody>\n",
       "    <tr>\n",
       "      <th>0</th>\n",
       "      <td>right_2020_04_18_10_38_50_679.jpg</td>\n",
       "      <td>C:\\Users\\darkr\\Desktop\\car-data\\IMG\\left_2020_04_18_10_38_50_679.jpg</td>\n",
       "      <td>C:\\Users\\darkr\\Desktop\\car-data\\IMG\\right_2020_04_18_10_38_50_679.jpg</td>\n",
       "      <td>0.0</td>\n",
       "      <td>0.0</td>\n",
       "      <td>0</td>\n",
       "      <td>0.000078</td>\n",
       "    </tr>\n",
       "    <tr>\n",
       "      <th>1</th>\n",
       "      <td>right_2020_04_18_10_38_50_780.jpg</td>\n",
       "      <td>C:\\Users\\darkr\\Desktop\\car-data\\IMG\\left_2020_04_18_10_38_50_780.jpg</td>\n",
       "      <td>C:\\Users\\darkr\\Desktop\\car-data\\IMG\\right_2020_04_18_10_38_50_780.jpg</td>\n",
       "      <td>0.0</td>\n",
       "      <td>0.0</td>\n",
       "      <td>0</td>\n",
       "      <td>0.000080</td>\n",
       "    </tr>\n",
       "    <tr>\n",
       "      <th>2</th>\n",
       "      <td>right_2020_04_18_10_38_50_880.jpg</td>\n",
       "      <td>C:\\Users\\darkr\\Desktop\\car-data\\IMG\\left_2020_04_18_10_38_50_880.jpg</td>\n",
       "      <td>C:\\Users\\darkr\\Desktop\\car-data\\IMG\\right_2020_04_18_10_38_50_880.jpg</td>\n",
       "      <td>0.0</td>\n",
       "      <td>0.0</td>\n",
       "      <td>0</td>\n",
       "      <td>0.000080</td>\n",
       "    </tr>\n",
       "    <tr>\n",
       "      <th>3</th>\n",
       "      <td>right_2020_04_18_10_38_50_985.jpg</td>\n",
       "      <td>C:\\Users\\darkr\\Desktop\\car-data\\IMG\\left_2020_04_18_10_38_50_985.jpg</td>\n",
       "      <td>C:\\Users\\darkr\\Desktop\\car-data\\IMG\\right_2020_04_18_10_38_50_985.jpg</td>\n",
       "      <td>0.0</td>\n",
       "      <td>0.0</td>\n",
       "      <td>0</td>\n",
       "      <td>0.000078</td>\n",
       "    </tr>\n",
       "    <tr>\n",
       "      <th>4</th>\n",
       "      <td>right_2020_04_18_10_38_51_088.jpg</td>\n",
       "      <td>C:\\Users\\darkr\\Desktop\\car-data\\IMG\\left_2020_04_18_10_38_51_088.jpg</td>\n",
       "      <td>C:\\Users\\darkr\\Desktop\\car-data\\IMG\\right_2020_04_18_10_38_51_088.jpg</td>\n",
       "      <td>0.0</td>\n",
       "      <td>0.0</td>\n",
       "      <td>0</td>\n",
       "      <td>0.000079</td>\n",
       "    </tr>\n",
       "  </tbody>\n",
       "</table>\n",
       "</div>"
      ],
      "text/plain": [
       "                              center  \\\n",
       "0  right_2020_04_18_10_38_50_679.jpg   \n",
       "1  right_2020_04_18_10_38_50_780.jpg   \n",
       "2  right_2020_04_18_10_38_50_880.jpg   \n",
       "3  right_2020_04_18_10_38_50_985.jpg   \n",
       "4  right_2020_04_18_10_38_51_088.jpg   \n",
       "\n",
       "                                                                    left  \\\n",
       "0   C:\\Users\\darkr\\Desktop\\car-data\\IMG\\left_2020_04_18_10_38_50_679.jpg   \n",
       "1   C:\\Users\\darkr\\Desktop\\car-data\\IMG\\left_2020_04_18_10_38_50_780.jpg   \n",
       "2   C:\\Users\\darkr\\Desktop\\car-data\\IMG\\left_2020_04_18_10_38_50_880.jpg   \n",
       "3   C:\\Users\\darkr\\Desktop\\car-data\\IMG\\left_2020_04_18_10_38_50_985.jpg   \n",
       "4   C:\\Users\\darkr\\Desktop\\car-data\\IMG\\left_2020_04_18_10_38_51_088.jpg   \n",
       "\n",
       "                                                                    right  \\\n",
       "0   C:\\Users\\darkr\\Desktop\\car-data\\IMG\\right_2020_04_18_10_38_50_679.jpg   \n",
       "1   C:\\Users\\darkr\\Desktop\\car-data\\IMG\\right_2020_04_18_10_38_50_780.jpg   \n",
       "2   C:\\Users\\darkr\\Desktop\\car-data\\IMG\\right_2020_04_18_10_38_50_880.jpg   \n",
       "3   C:\\Users\\darkr\\Desktop\\car-data\\IMG\\right_2020_04_18_10_38_50_985.jpg   \n",
       "4   C:\\Users\\darkr\\Desktop\\car-data\\IMG\\right_2020_04_18_10_38_51_088.jpg   \n",
       "\n",
       "   steering  throttle  reverse     speed  \n",
       "0  0.0       0.0       0        0.000078  \n",
       "1  0.0       0.0       0        0.000080  \n",
       "2  0.0       0.0       0        0.000080  \n",
       "3  0.0       0.0       0        0.000078  \n",
       "4  0.0       0.0       0        0.000079  "
      ]
     },
     "execution_count": 3,
     "metadata": {},
     "output_type": "execute_result"
    }
   ],
   "source": [
    "def path_leaf(path):\n",
    "    head, tail = ntpath.split(path)\n",
    "    return tail\n",
    "\n",
    "data['center'] = data['center'].apply(path_leaf)\n",
    "data['center'] = data['left'].apply(path_leaf)\n",
    "data['center'] = data['right'].apply(path_leaf)\n",
    "data.head()"
   ]
  },
  {
   "cell_type": "code",
   "execution_count": 4,
   "metadata": {
    "scrolled": true
   },
   "outputs": [
    {
     "data": {
      "text/plain": [
       "[<matplotlib.lines.Line2D at 0x1f3947f2e48>,\n",
       " <matplotlib.lines.Line2D at 0x1f394605348>]"
      ]
     },
     "execution_count": 4,
     "metadata": {},
     "output_type": "execute_result"
    },
    {
     "data": {
      "image/png": "[encoded data removed]",
      "text/plain": [
       "<Figure size 432x288 with 1 Axes>"
      ]
     },
     "metadata": {
      "needs_background": "light"
     },
     "output_type": "display_data"
    }
   ],
   "source": [
    "num_bins = 25\n",
    "samples_per_bin = 200\n",
    "hist, bins = np.histogram(data['steering'], num_bins)\n",
    "center = (bins[:-1] + bins[1:]) * 0.5\n",
    "plt.bar(center, hist, width=0.05)\n",
    "plt.plot(np.min(data['steering']), np.max(data['steering']), \n",
    "         (samples_per_bin, samples_per_bin))"
   ]
  },
  {
   "cell_type": "code",
   "execution_count": 5,
   "metadata": {
    "scrolled": false
   },
   "outputs": [
    {
     "name": "stdout",
     "output_type": "stream",
     "text": [
      "Total data: 5056\n",
      "removed 3702\n",
      "remaining: 1354\n"
     ]
    },
    {
     "data": {
      "text/plain": [
       "[<matplotlib.lines.Line2D at 0x1f3947c0348>,\n",
       " <matplotlib.lines.Line2D at 0x1f394605148>]"
      ]
     },
     "execution_count": 5,
     "metadata": {},
     "output_type": "execute_result"
    },
    {
     "data": {
      "image/png": "[encoded data removed]",
      "text/plain": [
       "<Figure size 432x288 with 1 Axes>"
      ]
     },
     "metadata": {
      "needs_background": "light"
     },
     "output_type": "display_data"
    }
   ],
   "source": [
    "print('Total data:', len(data))\n",
    "remove_list = []\n",
    "for j in range(num_bins):\n",
    "    list_ = []\n",
    "    for i in range(len(data['steering'])):\n",
    "        if data['steering'][i] >= bins[j] and data['steering'][i] <= bins[j+1]:\n",
    "            list_.append(i)\n",
    "    list_ = shuffle(list_)\n",
    "    list_ = list_[samples_per_bin:]\n",
    "    remove_list.extend(list_)\n",
    "\n",
    "print('removed', len(remove_list))\n",
    "data.drop(data.index[remove_list], inplace=True)\n",
    "print('remaining:', len(data))\n",
    "\n",
    "hist, _ = np.histogram(data['steering'], num_bins)\n",
    "plt.bar(center, hist, width=0.05)\n",
    "plt.plot(np.min(data['steering']), np.max(data['steering']), \n",
    "         (samples_per_bin, samples_per_bin))"
   ]
  },
  {
   "cell_type": "code",
   "execution_count": 6,
   "metadata": {},
   "outputs": [],
   "source": [
    "def load_img_steering(datadir, df):\n",
    "    image_path = []\n",
    "    steering = []\n",
    "    for i in range(len(data)):\n",
    "        indexed_data = data.iloc[i]\n",
    "        center, left, right = indexed_data[0], indexed_data[1], indexed_data[2]\n",
    "        image_path.append(os.path.join(datadir, center.strip()))\n",
    "        steering.append(float(indexed_data[3]))\n",
    "    image_path = np.asarray(image_path)\n",
    "    steering = np.asarray(steering)\n",
    "    return image_path, steering\n",
    "\n",
    "image_paths, steerings = load_img_steering(datadir + '/IMG', data)"
   ]
  },
  {
   "cell_type": "code",
   "execution_count": 7,
   "metadata": {},
   "outputs": [
    {
     "name": "stdout",
     "output_type": "stream",
     "text": [
      "Training Samples: 1083\n",
      "Valid Samples: 271\n"
     ]
    }
   ],
   "source": [
    "X_train, X_valid, y_train, y_valid = train_test_split(image_paths, steerings, \n",
    "                                                      test_size=0.2, \n",
    "                                                      random_state=0)\n",
    "print('Training Samples: {}\\nValid Samples: {}'.format(len(X_train), len(X_valid)))"
   ]
  },
  {
   "cell_type": "code",
   "execution_count": 8,
   "metadata": {
    "scrolled": false
   },
   "outputs": [
    {
     "data": {
      "text/plain": [
       "Text(0.5, 1.0, 'Validation set')"
      ]
     },
     "execution_count": 8,
     "metadata": {},
     "output_type": "execute_result"
    },
    {
     "data": {
      "image/png": "[encoded data removed]",
      "text/plain": [
       "<Figure size 864x288 with 2 Axes>"
      ]
     },
     "metadata": {
      "needs_background": "light"
     },
     "output_type": "display_data"
    }
   ],
   "source": [
    "fig, axes = plt.subplots(1, 2, figsize=(12, 4))\n",
    "axes[0].hist(y_train, bins=num_bins, width=0.05, color='blue')\n",
    "axes[0].set_title('Training set')\n",
    "axes[1].hist(y_valid, bins=num_bins, width=0.05, color='red')\n",
    "axes[1].set_title('Validation set')\n"
   ]
  },
  {
   "cell_type": "code",
   "execution_count": 9,
   "metadata": {},
   "outputs": [],
   "source": [
    "def zoom(image):\n",
    "    zoom = iaa.Affine(scale=(1, 1.3))\n",
    "    image = zoom.augment_image(image)\n",
    "    return image"
   ]
  },
  {
   "cell_type": "code",
   "execution_count": 10,
   "metadata": {},
   "outputs": [],
   "source": [
    "def pan(image):\n",
    "    pan = iaa.Affine(translate_percent={\"x\": (-0.1, 0.1), \"y\": (-0.1, 0.1)})\n",
    "    image = pan.augment_image(image)\n",
    "    return image"
   ]
  },
  {
   "cell_type": "code",
   "execution_count": 11,
   "metadata": {},
   "outputs": [],
   "source": [
    "def img_random_brightness(image):\n",
    "    brightness = iaa.Multiply((0.2, 1.2))\n",
    "    image = brightness.augment_image(image)\n",
    "    return image"
   ]
  },
  {
   "cell_type": "code",
   "execution_count": 12,
   "metadata": {},
   "outputs": [],
   "source": [
    "def img_random_flip(image, steering_angle):\n",
    "    image = cv2.flip(image, 1)\n",
    "    steering_angle = -steering_angle\n",
    "    return image, steering_angle"
   ]
  },
  {
   "cell_type": "code",
   "execution_count": 13,
   "metadata": {},
   "outputs": [],
   "source": [
    "def random_augment(image, steering_angle):\n",
    "    image = npimg.imread(image)\n",
    "    if np.random.rand() < 0.5:\n",
    "        image = pan(image)\n",
    "    if np.random.rand() < 0.5:\n",
    "        image = zoom(image)\n",
    "    if np.random.rand() < 0.5:\n",
    "        image = img_random_brightness(image, steering_angle)\n",
    "    if np.random.rand() < 0.5:\n",
    "        image = img_random_flip(image, steering_angle)"
   ]
  },
  {
   "cell_type": "code",
   "execution_count": null,
   "metadata": {},
   "outputs": [],
   "source": [
    "def img_preprocess(img):\n",
    "    img = npimg.imread(img)\n",
    "    img = img[60:135,:,:]\n",
    "    img = cv2.cvtColor(img, cv2.COLOR_RGB2YUV)\n",
    "    img = cv2.GaussianBlur(img,  (3, 3), 0)\n",
    "    img = cv2.resize(img, (200, 66))\n",
    "    img = img/255\n",
    "    return img"
   ]
  },
  {
   "cell_type": "code",
   "execution_count": null,
   "metadata": {},
   "outputs": [],
   "source": [
    "X_train = np.asarray(list(map(img_preprocess, X_train)))\n",
    "X_valid = np.asarray(list(map(img_preprocess, X_valid)))"
   ]
  },
  {
   "cell_type": "code",
   "execution_count": null,
   "metadata": {
    "scrolled": true
   },
   "outputs": [],
   "source": [
    "plt.imshow(X_train[random.randint(0, len(X_train - 1))])\n",
    "plt.axis('off')\n",
    "print(X_train.shape)"
   ]
  },
  {
   "cell_type": "code",
   "execution_count": null,
   "metadata": {},
   "outputs": [],
   "source": [
    "def nvidia_model():\n",
    " \n",
    "    model = Sequential()\n",
    "\n",
    "    model.add(Conv2D(24, kernel_size=(5,5), strides=(2,2), \n",
    "                     input_shape=(66,200,3),activation='elu'))\n",
    "\n",
    "    model.add(Conv2D(36, kernel_size=(5,5), strides=(2,2), activation='elu'))\n",
    "    model.add(Conv2D(48, kernel_size=(5,5), strides=(2,2), activation='elu'))\n",
    "    model.add(Conv2D(64, kernel_size=(3,3), activation='elu'))\n",
    "    model.add(Conv2D(64, kernel_size=(3,3), activation='elu'))\n",
    "    model.add(Dropout(0.5))\n",
    "\n",
    "\n",
    "    model.add(Flatten())\n",
    "    model.add(Dense(100, activation='elu'))\n",
    "    model.add(Dropout(0.5))\n",
    "\n",
    "\n",
    "    model.add(Dense(50, activation='elu'))\n",
    "    model.add(Dropout(0.5))\n",
    "    model.add(Dense(10, activation ='elu'))\n",
    "    model.add(Dropout(0.5))\n",
    "    model.add(Dense(1))\n",
    "\n",
    "\n",
    "    optimizer= Adam(lr=1e-3)\n",
    "    model.compile(loss='mse', optimizer=optimizer)\n",
    "\n",
    "    return model"
   ]
  },
  {
   "cell_type": "code",
   "execution_count": null,
   "metadata": {
    "scrolled": false
   },
   "outputs": [],
   "source": [
    "model = nvidia_model()\n",
    "model.summary()"
   ]
  },
  {
   "cell_type": "code",
   "execution_count": null,
   "metadata": {
    "scrolled": true
   },
   "outputs": [],
   "source": [
    "#history = model.fit(X_train, y_train, epochs=30, validation_data=(X_valid, y_valid),\n",
    "         #batch_size=100, verbose=1, shuffle=1)"
   ]
  },
  {
   "cell_type": "code",
   "execution_count": null,
   "metadata": {
    "scrolled": true
   },
   "outputs": [],
   "source": [
    "plt.plot(history.history['loss'])\n",
    "plt.plot(history.history['val_loss'])\n",
    "plt.legend(['training', 'validation'])\n",
    "plt.title('Loss')\n",
    "plt.xlabel('epoch')"
   ]
  },
  {
   "cell_type": "code",
   "execution_count": null,
   "metadata": {},
   "outputs": [],
   "source": [
    "model.save('model.h5')"
   ]
  }
 ],
 "metadata": {
  "kernelspec": {
   "display_name": "Python 3",
   "language": "python",
   "name": "python3"
  },
  "language_info": {
   "codemirror_mode": {
    "name": "ipython",
    "version": 3
   },
   "file_extension": ".py",
   "mimetype": "text/x-python",
   "name": "python",
   "nbconvert_exporter": "python",
   "pygments_lexer": "ipython3",
   "version": "3.7.6"
  }
 },
 "nbformat": 4,
 "nbformat_minor": 4
}
